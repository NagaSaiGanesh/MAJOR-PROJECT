{
  "nbformat": 4,
  "nbformat_minor": 0,
  "metadata": {
    "kernelspec": {
      "display_name": "Python 3",
      "language": "python",
      "name": "python3"
    },
    "language_info": {
      "codemirror_mode": {
        "name": "ipython",
        "version": 3
      },
      "file_extension": ".py",
      "mimetype": "text/x-python",
      "name": "python",
      "nbconvert_exporter": "python",
      "pygments_lexer": "ipython3",
      "version": "3.8.3"
    },
    "colab": {
      "name": "Sentimental analysis-Major project.ipynb",
      "provenance": [],
      "include_colab_link": true
    }
  },
  "cells": [
    {
      "cell_type": "markdown",
      "metadata": {
        "id": "view-in-github",
        "colab_type": "text"
      },
      "source": [
        "<a href=\"https://colab.research.google.com/github/NagaSaiGanesh/MAJOR-PROJECT/blob/main/Sentimental_analysis_Major_project.ipynb\" target=\"_parent\"><img src=\"https://colab.research.google.com/assets/colab-badge.svg\" alt=\"Open In Colab\"/></a>"
      ]
    },
    {
      "cell_type": "markdown",
      "metadata": {
        "id": "LO_hUQErQF_N"
      },
      "source": [
        "# AI-MAJOR-AUG-AI08B5."
      ]
    },
    {
      "cell_type": "code",
      "metadata": {
        "id": "dbYIovcIQF_S"
      },
      "source": [
        "import sys\n",
        "import os\n",
        "import pandas as pd\n",
        "import numpy as np\n",
        "import seaborn as sb\n",
        "import matplotlib.pyplot as plt\n",
        "import tensorflow as tf\n",
        "from keras.models import Sequential\n",
        "from keras.layers import Dense, Dropout, Activation, Flatten\n",
        "from keras.layers import Conv2D, MaxPooling2D, BatchNormalization,AveragePooling2D\n",
        "from keras.losses import categorical_crossentropy\n",
        "from keras.optimizers import Adam\n",
        "from keras.regularizers import l2\n",
        "from keras.utils import np_utils"
      ],
      "execution_count": null,
      "outputs": []
    },
    {
      "cell_type": "code",
      "metadata": {
        "id": "-J1pUR7nQF_Z"
      },
      "source": [
        "df=pd.read_csv('C:/Users/KIIT/Documents/VERZEO/AI MAJOR/fer2013.csv')"
      ],
      "execution_count": null,
      "outputs": []
    },
    {
      "cell_type": "code",
      "metadata": {
        "id": "YyYo4DoKQF_Z"
      },
      "source": [
        "graph = sb.countplot(x='emotion',data=df)\n",
        "plt.show()"
      ],
      "execution_count": null,
      "outputs": []
    },
    {
      "cell_type": "code",
      "metadata": {
        "id": "8nYDnYJEQF_b"
      },
      "source": [
        "df = df[df.emotion != 1]"
      ],
      "execution_count": null,
      "outputs": []
    },
    {
      "cell_type": "code",
      "metadata": {
        "id": "fJBMJs2DQF_c"
      },
      "source": [
        "df.replace(2,1, inplace=True)\n",
        "df.replace(3,2, inplace=True)\n",
        "df.replace(4,3, inplace=True)\n",
        "df.replace(5,4, inplace=True)\n",
        "df.replace(6,5, inplace=True)"
      ],
      "execution_count": null,
      "outputs": []
    },
    {
      "cell_type": "code",
      "metadata": {
        "id": "QzBCoZ-cQF_c"
      },
      "source": [
        "emotion_label_to_text = {0:'angry', 1:'fear', 2:'happy', 3: 'sad', 4: 'surprise', 5: 'neutral'}"
      ],
      "execution_count": null,
      "outputs": []
    },
    {
      "cell_type": "code",
      "metadata": {
        "id": "EoQJayvrQF_d"
      },
      "source": [
        "graph = sb.countplot(x='emotion',data=df)\n",
        "plt.show()"
      ],
      "execution_count": null,
      "outputs": []
    },
    {
      "cell_type": "code",
      "metadata": {
        "id": "fD5HCH_OQF_f"
      },
      "source": [
        "fig = plt.figure(1, (14, 14))\n",
        "\n",
        "k = 0\n",
        "for label in sorted(df.emotion.unique()):\n",
        "    for j in range(7):\n",
        "        px = df[df.emotion==label].pixels.iloc[k]\n",
        "        px = np.array(px.split(' ')).reshape(48, 48).astype('float32')\n",
        "\n",
        "        k += 1\n",
        "        ax = plt.subplot(7, 7, k)\n",
        "        ax.imshow(px, cmap='gray')\n",
        "        ax.set_xticks([])\n",
        "        ax.set_yticks([])\n",
        "        ax.set_title(emotion_label_to_text[label])\n",
        "        plt.tight_layout()"
      ],
      "execution_count": null,
      "outputs": []
    },
    {
      "cell_type": "code",
      "metadata": {
        "id": "PlhArABtQF_h"
      },
      "source": [
        "X_train,Y_train,X_test,Y_test=[],[],[],[]"
      ],
      "execution_count": null,
      "outputs": []
    },
    {
      "cell_type": "code",
      "metadata": {
        "id": "JXisZU_yQF_j"
      },
      "source": [
        "for index, row in df.iterrows():\n",
        "    val=row['pixels'].split(\" \")\n",
        "    try:\n",
        "        if 'Training' in row['Usage']:\n",
        "           X_train.append(np.array(val,'float32'))\n",
        "           Y_train.append(row['emotion'])\n",
        "        elif 'PublicTest' in row['Usage']:\n",
        "           X_test.append(np.array(val,'float32'))\n",
        "           Y_test.append(row['emotion'])\n",
        "    except:\n",
        "        print(f\"error occured at index :{index} and row:{row}\")"
      ],
      "execution_count": null,
      "outputs": []
    },
    {
      "cell_type": "code",
      "metadata": {
        "id": "-G2tG7CnQF_k"
      },
      "source": [
        "df.describe()"
      ],
      "execution_count": null,
      "outputs": []
    },
    {
      "cell_type": "code",
      "metadata": {
        "id": "D41JHDCMQF_m"
      },
      "source": [
        "df.head()"
      ],
      "execution_count": null,
      "outputs": []
    },
    {
      "cell_type": "code",
      "metadata": {
        "id": "aM0gZyovQF_o",
        "outputId": "e5ecda93-7971-455d-8797-75e369c28085"
      },
      "source": [
        "df.info()"
      ],
      "execution_count": null,
      "outputs": [
        {
          "output_type": "stream",
          "text": [
            "<class 'pandas.core.frame.DataFrame'>\n",
            "Int64Index: 35340 entries, 0 to 35886\n",
            "Data columns (total 3 columns):\n",
            " #   Column   Non-Null Count  Dtype \n",
            "---  ------   --------------  ----- \n",
            " 0   emotion  35340 non-null  int64 \n",
            " 1   pixels   35340 non-null  object\n",
            " 2   Usage    35340 non-null  object\n",
            "dtypes: int64(1), object(2)\n",
            "memory usage: 2.3+ MB\n"
          ],
          "name": "stdout"
        }
      ]
    },
    {
      "cell_type": "code",
      "metadata": {
        "id": "94kg7feYQF_p",
        "outputId": "051540d9-6095-4209-dc7f-b181b9deb68f"
      },
      "source": [
        "print(df.isnull().sum())"
      ],
      "execution_count": null,
      "outputs": [
        {
          "output_type": "stream",
          "text": [
            "emotion    0\n",
            "pixels     0\n",
            "Usage      0\n",
            "dtype: int64\n"
          ],
          "name": "stdout"
        }
      ]
    },
    {
      "cell_type": "code",
      "metadata": {
        "id": "BZhd_3A6QF_p"
      },
      "source": [
        "num_features = 64\n",
        "num_labels = 7\n",
        "batch_size = 32\n",
        "epochs = 50\n",
        "width, height = 48, 48"
      ],
      "execution_count": null,
      "outputs": []
    },
    {
      "cell_type": "code",
      "metadata": {
        "id": "fjGxiP7pQF_q"
      },
      "source": [
        "X_train = np.array(X_train,'float32')\n",
        "Y_train = np.array(Y_train,'float32')\n",
        "X_test = np.array(X_test,'float32')\n",
        "Y_test = np.array(Y_test,'float32')"
      ],
      "execution_count": null,
      "outputs": []
    },
    {
      "cell_type": "code",
      "metadata": {
        "id": "PkiMpSVLQGAC"
      },
      "source": [
        "Y_train=np_utils.to_categorical(Y_train, num_classes=num_labels)\n",
        "Y_test=np_utils.to_categorical(Y_test, num_classes=num_labels)"
      ],
      "execution_count": null,
      "outputs": []
    },
    {
      "cell_type": "code",
      "metadata": {
        "id": "zPtjoZDEQGAD"
      },
      "source": [
        "X_train -= np.mean(X_train, axis=0)\n",
        "X_train /= np.std(X_train, axis=0)"
      ],
      "execution_count": null,
      "outputs": []
    },
    {
      "cell_type": "code",
      "metadata": {
        "id": "vhCxE6VlQGAD"
      },
      "source": [
        "X_test -= np.mean(X_test, axis=0)\n",
        "X_test /= np.std(X_test, axis=0)"
      ],
      "execution_count": null,
      "outputs": []
    },
    {
      "cell_type": "code",
      "metadata": {
        "id": "-GNEwpMEQGAE"
      },
      "source": [
        "X_train = X_train.reshape(X_train.shape[0], 48, 48, 1)\n",
        "X_test = X_test.reshape(X_test.shape[0], 48, 48, 1)"
      ],
      "execution_count": null,
      "outputs": []
    },
    {
      "cell_type": "code",
      "metadata": {
        "id": "cBonQJRJQGAF",
        "outputId": "6bceb073-9cf3-424c-a1b1-f11d7e8d698e"
      },
      "source": [
        "print(X_train.shape)\n",
        "print(Y_train.shape)\n",
        "print(Y_test.shape)\n",
        "print(X_test.shape)"
      ],
      "execution_count": null,
      "outputs": [
        {
          "output_type": "stream",
          "text": [
            "(28273, 48, 48, 1)\n",
            "(28273, 7)\n",
            "(3533, 7)\n",
            "(3533, 48, 48, 1)\n"
          ],
          "name": "stdout"
        }
      ]
    },
    {
      "cell_type": "code",
      "metadata": {
        "id": "9VOavvBKQGAF"
      },
      "source": [
        "model = Sequential()\n",
        "\n",
        "model.add(Conv2D(64, kernel_size=(3, 3), activation='relu', input_shape=(X_train.shape[1:])))\n",
        "model.add(Conv2D(64,kernel_size= (3, 3), activation='relu'))\n",
        "model.add(MaxPooling2D(pool_size=(2,2), strides=(2, 2)))\n",
        "model.add(Dropout(0.5))\n"
      ],
      "execution_count": null,
      "outputs": []
    },
    {
      "cell_type": "code",
      "metadata": {
        "id": "aAGSFuUQQGAG"
      },
      "source": [
        "model.add(Conv2D(64, (3, 3), activation='relu'))\n",
        "model.add(Conv2D(64, (3, 3), activation='relu'))\n",
        "model.add(MaxPooling2D(pool_size=(2,2), strides=(2, 2)))\n",
        "model.add(Dropout(0.5))"
      ],
      "execution_count": null,
      "outputs": []
    },
    {
      "cell_type": "code",
      "metadata": {
        "id": "RlQbKoXVQGAH"
      },
      "source": [
        "model.add(Conv2D(128, (3, 3), activation='relu'))\n",
        "model.add(Conv2D(128, (3, 3), activation='relu'))\n",
        "model.add(MaxPooling2D(pool_size=(2,2), strides=(2, 2)))"
      ],
      "execution_count": null,
      "outputs": []
    },
    {
      "cell_type": "code",
      "metadata": {
        "id": "HegdiRfGQGAH"
      },
      "source": [
        "model.add(Flatten())"
      ],
      "execution_count": null,
      "outputs": []
    },
    {
      "cell_type": "code",
      "metadata": {
        "id": "kg00CyuuQGAI"
      },
      "source": [
        "model.add(Dense(1024, activation='relu'))\n",
        "model.add(Dropout(0.2))\n",
        "model.add(Dense(1024, activation='relu'))\n",
        "model.add(Dropout(0.4))\n",
        "model.add(Dense(num_labels, activation='softmax'))"
      ],
      "execution_count": null,
      "outputs": []
    },
    {
      "cell_type": "code",
      "metadata": {
        "id": "i2P8OTj1QGAI",
        "outputId": "7121a490-d67b-4074-8836-acec732ab793"
      },
      "source": [
        "model.summary()"
      ],
      "execution_count": null,
      "outputs": [
        {
          "output_type": "stream",
          "text": [
            "Model: \"sequential_1\"\n",
            "_________________________________________________________________\n",
            "Layer (type)                 Output Shape              Param #   \n",
            "=================================================================\n",
            "conv2d_1 (Conv2D)            (None, 46, 46, 64)        640       \n",
            "_________________________________________________________________\n",
            "conv2d_2 (Conv2D)            (None, 44, 44, 64)        36928     \n",
            "_________________________________________________________________\n",
            "max_pooling2d_1 (MaxPooling2 (None, 22, 22, 64)        0         \n",
            "_________________________________________________________________\n",
            "dropout_1 (Dropout)          (None, 22, 22, 64)        0         \n",
            "_________________________________________________________________\n",
            "conv2d_3 (Conv2D)            (None, 20, 20, 64)        36928     \n",
            "_________________________________________________________________\n",
            "conv2d_4 (Conv2D)            (None, 18, 18, 64)        36928     \n",
            "_________________________________________________________________\n",
            "max_pooling2d_2 (MaxPooling2 (None, 9, 9, 64)          0         \n",
            "_________________________________________________________________\n",
            "dropout_2 (Dropout)          (None, 9, 9, 64)          0         \n",
            "_________________________________________________________________\n",
            "conv2d_5 (Conv2D)            (None, 7, 7, 128)         73856     \n",
            "_________________________________________________________________\n",
            "conv2d_6 (Conv2D)            (None, 5, 5, 128)         147584    \n",
            "_________________________________________________________________\n",
            "max_pooling2d_3 (MaxPooling2 (None, 2, 2, 128)         0         \n",
            "_________________________________________________________________\n",
            "flatten_1 (Flatten)          (None, 512)               0         \n",
            "_________________________________________________________________\n",
            "dense_1 (Dense)              (None, 1024)              525312    \n",
            "_________________________________________________________________\n",
            "dropout_3 (Dropout)          (None, 1024)              0         \n",
            "_________________________________________________________________\n",
            "dense_2 (Dense)              (None, 1024)              1049600   \n",
            "_________________________________________________________________\n",
            "dropout_4 (Dropout)          (None, 1024)              0         \n",
            "_________________________________________________________________\n",
            "dense_3 (Dense)              (None, 7)                 7175      \n",
            "=================================================================\n",
            "Total params: 1,914,951\n",
            "Trainable params: 1,914,951\n",
            "Non-trainable params: 0\n",
            "_________________________________________________________________\n"
          ],
          "name": "stdout"
        }
      ]
    },
    {
      "cell_type": "code",
      "metadata": {
        "id": "fNrsD3lcQGAJ"
      },
      "source": [
        "model.compile(loss=categorical_crossentropy,\n",
        "              optimizer=Adam(),\n",
        "              metrics=['accuracy'])"
      ],
      "execution_count": null,
      "outputs": []
    },
    {
      "cell_type": "code",
      "metadata": {
        "id": "vWu_z_SIQGAK",
        "outputId": "fedc3473-d37e-47e4-afa1-d08de69578c2"
      },
      "source": [
        "history=model.fit(X_train, Y_train,\n",
        "          batch_size=batch_size,\n",
        "          epochs=epochs,\n",
        "          verbose=1,\n",
        "          validation_data=(X_test, Y_test),\n",
        "          shuffle=True)\n"
      ],
      "execution_count": null,
      "outputs": [
        {
          "output_type": "stream",
          "text": [
            "Train on 28273 samples, validate on 3533 samples\n",
            "Epoch 1/50\n",
            "28273/28273 [==============================] - 299s 11ms/step - loss: 1.6749 - accuracy: 0.2934 - val_loss: 1.5036 - val_accuracy: 0.3932\n",
            "Epoch 2/50\n",
            "28273/28273 [==============================] - 354s 13ms/step - loss: 1.4624 - accuracy: 0.4071 - val_loss: 1.3633 - val_accuracy: 0.4416\n",
            "Epoch 3/50\n",
            "28273/28273 [==============================] - 308s 11ms/step - loss: 1.3762 - accuracy: 0.4506 - val_loss: 1.3489 - val_accuracy: 0.4667\n",
            "Epoch 4/50\n",
            "28273/28273 [==============================] - 317s 11ms/step - loss: 1.3259 - accuracy: 0.4744 - val_loss: 1.2480 - val_accuracy: 0.5069\n",
            "Epoch 5/50\n",
            "28273/28273 [==============================] - 362s 13ms/step - loss: 1.2951 - accuracy: 0.4888 - val_loss: 1.2231 - val_accuracy: 0.5219\n",
            "Epoch 6/50\n",
            "28273/28273 [==============================] - 387s 14ms/step - loss: 1.2654 - accuracy: 0.5026 - val_loss: 1.2009 - val_accuracy: 0.5318\n",
            "Epoch 7/50\n",
            "28273/28273 [==============================] - 363s 13ms/step - loss: 1.2454 - accuracy: 0.5127 - val_loss: 1.2152 - val_accuracy: 0.5185\n",
            "Epoch 8/50\n",
            "28273/28273 [==============================] - 356s 13ms/step - loss: 1.2222 - accuracy: 0.5226 - val_loss: 1.1779 - val_accuracy: 0.5429\n",
            "Epoch 9/50\n",
            "28273/28273 [==============================] - 359s 13ms/step - loss: 1.2111 - accuracy: 0.5267 - val_loss: 1.1703 - val_accuracy: 0.5542\n",
            "Epoch 10/50\n",
            "28273/28273 [==============================] - 362s 13ms/step - loss: 1.1994 - accuracy: 0.5312 - val_loss: 1.1720 - val_accuracy: 0.5409\n",
            "Epoch 11/50\n",
            "28273/28273 [==============================] - 358s 13ms/step - loss: 1.1794 - accuracy: 0.5379 - val_loss: 1.2265 - val_accuracy: 0.5126\n",
            "Epoch 12/50\n",
            "28273/28273 [==============================] - 355s 13ms/step - loss: 1.1735 - accuracy: 0.5399 - val_loss: 1.1678 - val_accuracy: 0.5477\n",
            "Epoch 13/50\n",
            "28273/28273 [==============================] - 388s 14ms/step - loss: 1.1620 - accuracy: 0.5498 - val_loss: 1.1617 - val_accuracy: 0.5432\n",
            "Epoch 14/50\n",
            "28273/28273 [==============================] - 387s 14ms/step - loss: 1.1551 - accuracy: 0.5505 - val_loss: 1.1757 - val_accuracy: 0.5488\n",
            "Epoch 15/50\n",
            "28273/28273 [==============================] - 372s 13ms/step - loss: 1.1498 - accuracy: 0.5540 - val_loss: 1.1446 - val_accuracy: 0.5582\n",
            "Epoch 16/50\n",
            "28273/28273 [==============================] - 365s 13ms/step - loss: 1.1375 - accuracy: 0.5593 - val_loss: 1.1602 - val_accuracy: 0.5497\n",
            "Epoch 17/50\n",
            "28273/28273 [==============================] - 360s 13ms/step - loss: 1.1351 - accuracy: 0.5588 - val_loss: 1.1448 - val_accuracy: 0.5582\n",
            "Epoch 18/50\n",
            "28273/28273 [==============================] - 370s 13ms/step - loss: 1.1283 - accuracy: 0.5622 - val_loss: 1.1350 - val_accuracy: 0.5613\n",
            "Epoch 19/50\n",
            "28273/28273 [==============================] - 377s 13ms/step - loss: 1.1248 - accuracy: 0.5630 - val_loss: 1.1305 - val_accuracy: 0.5610\n",
            "Epoch 20/50\n",
            "21664/28273 [=====================>........] - ETA: 1:25 - loss: 1.1128 - accuracy: 0.5686"
          ],
          "name": "stdout"
        }
      ]
    },
    {
      "cell_type": "code",
      "metadata": {
        "id": "C9ZEsaeaQGAL"
      },
      "source": [
        "fer_json = model.to_json()\n",
        "with open(\"fer.json\",\"w\") as json_file:\n",
        "    json_file.write(fer_json)\n",
        "model.save_weights(\"fer.h5\")    "
      ],
      "execution_count": null,
      "outputs": []
    },
    {
      "cell_type": "code",
      "metadata": {
        "id": "SAfUMT3lQGAM"
      },
      "source": [
        "\n",
        "def plot_results(history):\n",
        "    acc = history.history['accuracy']\n",
        "    val_acc = history.history['val_accuracy']\n",
        "    loss = history.history['loss']\n",
        "    val_loss = history.history['val_loss']\n",
        "\n",
        "    epochs = range(1, len(acc) + 1)\n",
        "\n",
        "\n",
        "# summarize history for accuracy\n",
        "\n",
        "plt.plot(history.history['accuracy'])\n",
        "plt.plot(history.history['val_accuracy'])\n",
        "plt.title('model accuracy')\n",
        "plt.ylabel('accuracy')\n",
        "plt.xlabel('epoch')\n",
        "plt.legend(['training_accuracy', 'validation_accuracy'], loc='upper left')\n",
        "plt.show()\n",
        "# summarize history for loss\n",
        "plt.plot(history.history['loss'])\n",
        "plt.plot(history.history['val_loss'])\n",
        "plt.title('model loss')\n",
        "plt.ylabel('loss')\n",
        "plt.xlabel('epoch')\n",
        "plt.legend(['training_loss', 'validation_loss'], loc='upper right')\n",
        "plt.show()\n",
        "\n"
      ],
      "execution_count": null,
      "outputs": []
    },
    {
      "cell_type": "code",
      "metadata": {
        "id": "3d5P8y5YQGAN"
      },
      "source": [
        "def get_best_epoch(history):\n",
        "    valid_acc = history.history['val_accuracy']\n",
        "    best_epoch = valid_acc.index(max(valid_acc)) + 1\n",
        "    best_acc =  max(valid_acc)\n",
        "    print('Best Validation Accuracy Score {:0.5f}, is for epoch {}'.format( best_acc, best_epoch))\n",
        "    return best_epoch"
      ],
      "execution_count": null,
      "outputs": []
    },
    {
      "cell_type": "code",
      "metadata": {
        "id": "jz3z_Rb2QGAN"
      },
      "source": [
        "get_best_epoch(history)\n"
      ],
      "execution_count": null,
      "outputs": []
    },
    {
      "cell_type": "code",
      "metadata": {
        "id": "VgqGwUtxQGAO"
      },
      "source": [
        "import cv2\n",
        "from keras.models import model_from_json\n",
        "from keras.preprocessing import image"
      ],
      "execution_count": null,
      "outputs": []
    },
    {
      "cell_type": "code",
      "metadata": {
        "id": "qD0EPADPQGAO"
      },
      "source": [
        "model = model_from_json(open(\"fer.json\", \"r\").read())"
      ],
      "execution_count": null,
      "outputs": []
    },
    {
      "cell_type": "code",
      "metadata": {
        "id": "P0T9sBSvQGAP"
      },
      "source": [
        "model.load_weights('fer.h5')"
      ],
      "execution_count": null,
      "outputs": []
    },
    {
      "cell_type": "code",
      "metadata": {
        "id": "b2iyN2vmQGAR"
      },
      "source": [
        "face_haar_cascade = cv2.CascadeClassifier('C:/Users/KIIT/Documents/VERZEO/AI MAJOR/haarcascade_frontalface_default.xml')"
      ],
      "execution_count": null,
      "outputs": []
    },
    {
      "cell_type": "code",
      "metadata": {
        "id": "xvdFVramQGAS"
      },
      "source": [
        "cap=cv2.VideoCapture(0)\n",
        "while True:\n",
        "    ret,test_img=cap.read()# captures frame and returns boolean value and captured image\n",
        "    if not ret:\n",
        "        continue\n",
        "    gray_img= cv2.cvtColor(test_img, cv2.COLOR_BGR2GRAY)\n",
        "\n",
        "    faces_detected = face_haar_cascade.detectMultiScale(gray_img, 1.32, 5)\n",
        "\n",
        "\n",
        "    for (x,y,w,h) in faces_detected:\n",
        "        cv2.rectangle(test_img,(x,y),(x+w,y+h),(255,0,0),thickness=7)\n",
        "        roi_gray=gray_img[y:y+w,x:x+h]#cropping region of interest i.e. face area from  image\n",
        "        roi_gray=cv2.resize(roi_gray,(48,48))\n",
        "        img_pixels = image.img_to_array(roi_gray)\n",
        "        img_pixels = np.expand_dims(img_pixels, axis = 0)\n",
        "        img_pixels /= 255\n",
        "\n",
        "        predictions = model.predict(img_pixels)\n",
        "\n",
        "        #find max indexed array\n",
        "        max_index = np.argmax(predictions[0])\n",
        "\n",
        "        emotions = ('angry', 'fear', 'happy', 'sad', 'surprise', 'neutral')\n",
        "        predicted_emotion = emotions[max_index]\n",
        "\n",
        "        cv2.putText(test_img, predicted_emotion, (int(x), int(y)), cv2.FONT_HERSHEY_SIMPLEX, 1, (0,0,255), 2)\n",
        "\n",
        "    resized_img = cv2.resize(test_img, (1000, 700))\n",
        "    cv2.imshow('Facial emotion analysis ',resized_img)\n",
        "\n",
        "\n",
        "\n",
        "    key= cv2.waitKey(1) & 0xFF \n",
        "    if key==ord('q'):\n",
        "        break\n",
        "            \n",
        "cap.release()\n",
        "cv2.destroyAllWindows()"
      ],
      "execution_count": null,
      "outputs": []
    },
    {
      "cell_type": "code",
      "metadata": {
        "id": "8SX0s3QeQGAW"
      },
      "source": [
        ""
      ],
      "execution_count": null,
      "outputs": []
    }
  ]
}